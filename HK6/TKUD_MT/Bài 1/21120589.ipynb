{
 "cells": [
  {
   "cell_type": "markdown",
   "metadata": {},
   "source": [
    "##### **Bài 1: Chơi trò Tôm Cua (https://vi.wikipedia.org/wiki/L%E1%BA%AFc_b%E1%BA%A7u_cua). Người chơi có 6 tờ 1$ và muốn đặt tất cả 6 tờ này một lần. Phân tích các cách đặt (như đặt cả 6 tờ vào mặt Tôm, hay 5 tờ mặt Tôm và 1 tờ mặt Cua, …) để chọn ra cách đặt tốt nhất cho người chơi. Có nên chơi trò này không?**\n"
   ]
  },
  {
   "cell_type": "markdown",
   "metadata": {},
   "source": [
    "**TH1:** 6 tờ vào 1 con => đặt 1 con. Vì 6 tờ đặt vào 1 con, nên chỉ cần ít nhất 1 xúc xắc ra trúng con đó là ta thắng. Ta sẽ tính xác xuất 3 con xúc xắc ra khác con đặt rồi lấy phần bù.\n",
    "* Ta sẽ tìm biến cố đặt vào 1 con bất kỳ và 3 xúc xắc kia không ra con ta đặt: <span style=\"font-size:22px\">**$\\frac{6*5*5*5}{3!}$**</span>\n",
    "* Tính không gian mẫu trong trường hợp 1: <span style=\"font-size: 22px\">**$\\frac{6*6*6*6}{3!}$**</span>\n",
    "* Kết quả:  **$1 - \\frac{6*5*5*5}{6*6*6*6}$**</span>"
   ]
  },
  {
   "cell_type": "code",
   "execution_count": 55,
   "metadata": {},
   "outputs": [
    {
     "name": "stdout",
     "output_type": "stream",
     "text": [
      "Kết quả chính xác:  0.4212962962962963\n",
      "Kết quả mô phỏng:  0.422377\n"
     ]
    }
   ],
   "source": [
    "import random\n",
    "from math import comb, perm, factorial\n",
    "animals = [\"Bau\", \"Cua\", \"Ca\", \"Ga\", \"Tom\", \"Nai\"]\n",
    "\n",
    "def roll_dice():\n",
    "    dice1 = random.choice(animals)\n",
    "    dice2 = random.choice(animals)\n",
    "    dice3 = random.choice(animals)\n",
    "    return list([dice1, dice2, dice3])\n",
    "\n",
    "\n",
    "#Hàm tính chính xác\n",
    "def probability_1_situation1():\n",
    "    event = 6*5*5*5/factorial(3)\n",
    "    omega_space = 6*6*6*6/factorial(3)\n",
    "    prob = event/omega_space\n",
    "    return 1 - prob\n",
    "#Số lần mô phỏng\n",
    "N = 100_0000\n",
    "#Số lần trúng\n",
    "def simualation_1_situation1():\n",
    "    count = 0\n",
    "    for _ in range(N):\n",
    "        earn=0\n",
    "        bet = random.choice(animals)\n",
    "        results = roll_dice()\n",
    "        for result in results:\n",
    "            if bet == result:\n",
    "                earn +=6\n",
    "        #Nếu ăn từ 6 tờ đô la trở đi thì mới hòa hoặc huề vốn\n",
    "        if earn >= 6:\n",
    "            count +=1\n",
    "\n",
    "    return count/N\n",
    "\n",
    "print(\"Kết quả chính xác: \", probability_1_situation1())\n",
    "print(\"Kết quả mô phỏng: \", simualation_1_situation1())\n",
    "\n"
   ]
  },
  {
   "cell_type": "markdown",
   "metadata": {},
   "source": [
    "**TH2:** 5 tờ vào 1 con, tờ còn lại vào con khác => đặt 2 con. Trường hợp người chơi lỗ khi: không có con xúc xắc nào trùng với con thú mà 5 tờ đô la đặt vào\\"
   ]
  },
  {
   "cell_type": "code",
   "execution_count": 56,
   "metadata": {},
   "outputs": [
    {
     "name": "stdout",
     "output_type": "stream",
     "text": [
      "Kết quả mô phỏng:  0.198809\n"
     ]
    }
   ],
   "source": [
    "def simualation_1_situation2():\n",
    "    count = 0\n",
    "    earn = 0\n",
    "    for _ in range(N):\n",
    "        earn=0\n",
    "        bet1 = random.choice(animals)\n",
    "        bet2 = random.choice(list(set(animals) - {bet1}))\n",
    "        results = roll_dice()\n",
    "        # print(results)\n",
    "        # print(bet1, bet2)\n",
    "        for result in results:\n",
    "            if bet1 == result:\n",
    "                earn +=5\n",
    "            if bet2 == result:\n",
    "                earn +=1\n",
    "        #Nếu ăn từ 6 tờ đô la trở đi thì mới hòa hoặc huề vốn\n",
    "        if earn >= 6:\n",
    "            count+=1 \n",
    "    return count/N\n",
    "# print(\"Kết quả chính xác: \", probability_1_situation2())\n",
    "print(\"Kết quả mô phỏng: \", simualation_1_situation2())\n",
    "        \n"
   ]
  },
  {
   "cell_type": "markdown",
   "metadata": {},
   "source": [
    "**TH3:** 4 tờ vào 1 con, 2 tờ còn lại vào con khác.\n"
   ]
  },
  {
   "cell_type": "code",
   "execution_count": 57,
   "metadata": {},
   "outputs": [
    {
     "name": "stdout",
     "output_type": "stream",
     "text": [
      "Kết quả mô phỏng:  0.144586\n"
     ]
    }
   ],
   "source": [
    "import math\n",
    "def simualation_1_situation3():\n",
    "    count = 0\n",
    "    for _ in range(N):\n",
    "        earn=0\n",
    "        bet1 = random.choice(animals)\n",
    "        bet2 = random.choice(list(set(animals) - {bet1}))\n",
    "        bet3 = random.choice(list(set(animals)-{bet1}))\n",
    "        results = roll_dice()\n",
    "        # print(bet1, bet2, bet3)\n",
    "        for result in results:\n",
    "            if bet1 == result:\n",
    "                earn +=4\n",
    "            if bet2 == result:\n",
    "                earn +=1\n",
    "            if bet3 == result:\n",
    "                earn +=1\n",
    "        if earn >= 6:\n",
    "            count+=1        \n",
    "    return count/N\n",
    "print(\"Kết quả mô phỏng: \", simualation_1_situation3())\n"
   ]
  },
  {
   "cell_type": "markdown",
   "metadata": {},
   "source": [
    "**TH4:** 3 tờ vào 1 con, 3 tờ còn lại vào con khác\n",
    "\n"
   ]
  },
  {
   "cell_type": "code",
   "execution_count": 58,
   "metadata": {},
   "outputs": [
    {
     "name": "stdout",
     "output_type": "stream",
     "text": [
      "Kết quả mô phỏng:  0.103492\n"
     ]
    }
   ],
   "source": [
    "def simualation_1_situation4():\n",
    "    count = 0\n",
    "    for _ in range(N):\n",
    "        earn=0\n",
    "        bet1 = random.choice(animals)\n",
    "        bet2 = random.choice(list(set(animals) - {bet1}))\n",
    "        bet3 = random.choice(list(set(animals)-{bet1}))\n",
    "        bet4 = random.choice(list(set(animals)-{bet1}))\n",
    "        results = roll_dice()\n",
    "        # print(bet1, bet2, bet3)\n",
    "        for result in results:\n",
    "            if bet1 == result:\n",
    "                earn +=3\n",
    "            if bet2 == result:\n",
    "                earn +=1\n",
    "            if bet3 == result:\n",
    "                earn +=1\n",
    "            if bet4 == result:\n",
    "                earn +=1\n",
    "        if earn >= 6:\n",
    "            count+=1        \n",
    "    return count/N\n",
    "print(\"Kết quả mô phỏng: \", simualation_1_situation4())"
   ]
  },
  {
   "cell_type": "markdown",
   "metadata": {},
   "source": [
    "**TH4:** 2 tờ vào 1 con, 4 tờ còn lại vào con khác"
   ]
  },
  {
   "cell_type": "code",
   "execution_count": 59,
   "metadata": {},
   "outputs": [
    {
     "name": "stdout",
     "output_type": "stream",
     "text": [
      "Kết quả mô phỏng:  0.05112\n"
     ]
    }
   ],
   "source": [
    "def simualation_1_situation5():\n",
    "    count = 0\n",
    "    for _ in range(N):\n",
    "        earn=0\n",
    "        bet1 = random.choice(animals)\n",
    "        bet2 = random.choice(list(set(animals) - {bet1}))\n",
    "        bet3 = random.choice(list(set(animals)-{bet1}))\n",
    "        bet4 = random.choice(list(set(animals)-{bet1}))\n",
    "        bet5 = random.choice(list(set(animals)-{bet1}))\n",
    "        results = roll_dice()\n",
    "        # print(bet1, bet2, bet3)\n",
    "        for result in results:\n",
    "            if bet1 == result:\n",
    "                earn +=2\n",
    "            if bet2 == result:\n",
    "                earn +=1\n",
    "            if bet3 == result:\n",
    "                earn +=1\n",
    "            if bet4 == result:\n",
    "                earn +=1\n",
    "            if bet5 == result:\n",
    "                earn +=1\n",
    "        if earn >= 6:\n",
    "            count+=1        \n",
    "    return count/N\n",
    "print(\"Kết quả mô phỏng: \", simualation_1_situation5())"
   ]
  },
  {
   "cell_type": "code",
   "execution_count": 60,
   "metadata": {},
   "outputs": [
    {
     "name": "stdout",
     "output_type": "stream",
     "text": [
      "Kết quả mô phỏng:  0.038664\n"
     ]
    }
   ],
   "source": [
    "def simualation_1_situation6():\n",
    "    count = 0\n",
    "    for _ in range(N):\n",
    "        earn=0\n",
    "        bet1 = random.choice(animals)\n",
    "        bet2 = random.choice(list(set(animals) - {bet1}))\n",
    "        bet3 = random.choice(list(set(animals)-{bet1}))\n",
    "        bet4 = random.choice(list(set(animals)-{bet1}))\n",
    "        bet5 = random.choice(list(set(animals)-{bet1}))\n",
    "        bet6 = random.choice(list(set(animals)-{bet1}))\n",
    "        results = roll_dice()\n",
    "        # print(bet1, bet2, bet3)\n",
    "        for result in results:\n",
    "            if bet1 == result:\n",
    "                earn +=1\n",
    "            if bet2 == result:\n",
    "                earn +=1\n",
    "            if bet3 == result:\n",
    "                earn +=1\n",
    "            if bet4 == result:\n",
    "                earn +=1\n",
    "            if bet5 == result:\n",
    "                earn +=1\n",
    "            if bet6 == result:\n",
    "                earn +=1\n",
    "        if earn >= 6:\n",
    "            count+=1        \n",
    "    return count/N\n",
    "print(\"Kết quả mô phỏng: \", simualation_1_situation6())\n"
   ]
  },
  {
   "cell_type": "markdown",
   "metadata": {},
   "source": [
    "##### **Tóm lại: trường hợp đặt 6 tờ đô la vào 1 con thì có khả năng hòa vốn hoặc thắng nhiều nhất. Tuy nhiên không nên chơi trò này bởi vì tỉ lệ hòa vốn hoặc tháng rất thấp, vì tất cả các trường hợp đặt cược đều nhỏ hơn 0.5**"
   ]
  },
  {
   "cell_type": "markdown",
   "metadata": {},
   "source": [
    "#### **BÀI 2: Chơi game bắn quái vật. Giả sử các lần bắn độc lập nhau với xác suất trúng mỗi lần là 1/4. Quái vật bị mất 20% máu sau mỗi lần bị bắn trúng và chết khi mất 100% máu.**"
   ]
  },
  {
   "cell_type": "markdown",
   "metadata": {},
   "source": [
    "**a) Tính xác suất quái vật chết sau không quá 20 lần bắn.**\\\n",
    "Dùng công thức nhị thức âm \n",
    "* <span style=\"font-size: 23px\"> **$P(X \\le 20 )= \\sum_{x=5}^{20}\\left(\\frac{1}{4}\\right) \\cdot \\binom{x-1}{4} \\cdot \\left(\\frac{1}{4}\\right)^4 \\cdot \\left(\\frac{3}{4}\\right)^{x-1-4}$**</span>"
   ]
  },
  {
   "cell_type": "code",
   "execution_count": 61,
   "metadata": {},
   "outputs": [
    {
     "name": "stdout",
     "output_type": "stream",
     "text": [
      "Kết quả mô phỏng:  0.5871\n",
      "Kết quả chính xác:  0.5851584974698198\n"
     ]
    }
   ],
   "source": [
    "#Hàm tính chính xác\n",
    "def probability_2a(N):\n",
    "    p_hit = 1/4\n",
    "    p_miss = 3/4\n",
    "    probability = p_hit*comb(N-1,4)*(p_hit**4)*(p_miss**(N-1-4))\n",
    "    return probability\n",
    "\n",
    "result = sum(probability_2a(n) for n in range(5,21))\n",
    "N= 100_000 #Số lần mô phỏng\n",
    "\n",
    "#Hàm mô phỏng\n",
    "def shoot_monster():\n",
    "    blood = 100\n",
    "    count = 0\n",
    "    while blood > 0:\n",
    "        count +=1\n",
    "        choice = random.choices([\"Hit\",\"Miss\"],[1/4,3/4])\n",
    "        if choice[0] == \"Hit\":\n",
    "            blood -=20\n",
    "    # print(\"done\")\n",
    "    return count\n",
    "def simulation_2a(N):\n",
    "    return sum(shoot_monster() <= 20 for _ in range(N))/N\n",
    "print(\"Kết quả mô phỏng: \", simulation_2a(N))\n",
    "\n",
    "print(\"Kết quả chính xác: \", result)"
   ]
  },
  {
   "cell_type": "markdown",
   "metadata": {},
   "source": [
    "**b) Cần bắn ít nhất bao nhiêu lần để quái vật chết với xác suất không dưới 95%?**"
   ]
  },
  {
   "cell_type": "code",
   "execution_count": 62,
   "metadata": {},
   "outputs": [
    {
     "name": "stdout",
     "output_type": "stream",
     "text": [
      "Với tính chính xác, cần bắn ít nhất 11 lần để quái vật chết với xác suất không dưới 95%\n",
      "Với tính mô phỏng, cần bắn ít nhất 10 lần để quái vật chết với xác suất không dưới 95%\n"
     ]
    }
   ],
   "source": [
    "p_hit = 1/4\n",
    "p_miss = 3/4\n",
    "\n",
    "\n",
    "#Hàm tính chính xác, P(X >= n) >= 0.95 <=> P(X <= n) >= 0.05 \n",
    "def probability_2b():\n",
    "    i=5\n",
    "    while True:\n",
    "        prob = sum(probability_2a(n) for n in range(5,i))\n",
    "        if prob >= 0.05:\n",
    "            return i\n",
    "        i+=1\n",
    "shoot_at_least = probability_2b()\n",
    "print(f\"Với tính chính xác, cần bắn ít nhất {shoot_at_least} lần để quái vật chết với xác suất không dưới 95%\")\n",
    "\n",
    "\n",
    "#Hàm mô phỏng\n",
    "def simulation_2b(N):\n",
    "    i=5\n",
    "    while True:\n",
    "        prob = sum(shoot_monster() <= i for _ in range(N))/N\n",
    "        if prob >= 0.05:\n",
    "            return i\n",
    "        i+=1\n",
    "\n",
    "shoot_at_least = simulation_2b(N)\n",
    "        \n",
    "print(f\"Với tính mô phỏng, cần bắn ít nhất {shoot_at_least} lần để quái vật chết với xác suất không dưới 95%\")\n",
    "\n",
    "\n",
    "\n",
    "\n",
    "\n",
    "    \n",
    "\n",
    "\n",
    "\n",
    "\n",
    "\n",
    "    "
   ]
  },
  {
   "cell_type": "markdown",
   "metadata": {},
   "source": [
    "**c) Cần bắn khoảng bao nhiêu lần để quái vật chết?**"
   ]
  },
  {
   "cell_type": "code",
   "execution_count": 63,
   "metadata": {},
   "outputs": [
    {
     "name": "stdout",
     "output_type": "stream",
     "text": [
      "Cần bắn khoảng 20 lần để quái vật chết\n"
     ]
    }
   ],
   "source": [
    "#Tính trung bình số lần bắn để quái vật chết\n",
    "def similuation_2c(N):\n",
    "    shoot_needed_array = []\n",
    "    shoot_needed_average = 0\n",
    "    for i in range(N):\n",
    "        shoot_needed_array.append(shoot_monster())\n",
    "    for shoot in shoot_needed_array:\n",
    "        shoot_needed_average += shoot\n",
    "    shoot_needed_average /= N\n",
    "    return shoot_needed_average\n",
    "shoot_needed_average = similuation_2c(N)\n",
    "print(f\"Cần bắn khoảng {round(shoot_needed_average)} lần để quái vật chết\")"
   ]
  },
  {
   "cell_type": "markdown",
   "metadata": {},
   "source": [
    "#####  **BÀI 3: Bài toán cháy túi . Một người chơi bạc ở Casino. Giả sử mỗi lần chơi chỉ cược 1$ và thắng với xác suất là 𝑝. Người chơi có vốn ban đầu là 𝑘\\$ và chơi cho đến khi được 𝑞$ hoặc cháy túi mới dừng. Tính xác suất cháy túi trong các trường hợp:**"
   ]
  },
  {
   "cell_type": "markdown",
   "metadata": {},
   "source": [
    "**a) $p = \\frac{1}{2}, k = 55, q = 100$**"
   ]
  },
  {
   "cell_type": "code",
   "execution_count": null,
   "metadata": {},
   "outputs": [
    {
     "data": {
      "text/plain": [
       "0.45187"
      ]
     },
     "execution_count": 5,
     "metadata": {},
     "output_type": "execute_result"
    }
   ],
   "source": [
    "import numpy as np\n",
    "\n",
    "def burn_bag(p, k, q,):\n",
    "    while k<q:\n",
    "        result = np.random.choice([\"win\", \"lose\"], p=[p, 1-p])\n",
    "        if result == \"win\":\n",
    "            k+=1\n",
    "        else:\n",
    "            k-=1\n",
    "        if k==0:\n",
    "            return True\n",
    "    return False\n",
    "\n",
    "N = 100000\n",
    "p = 1/2\n",
    "k = 55 \n",
    "q = 100\n",
    "sum(burn_bag(p,k,q) for _ in range(N))/N\n"
   ]
  },
  {
   "cell_type": "markdown",
   "metadata": {},
   "source": [
    "**b) $p = \\frac{2}{5}, k = 75, q = 100$**\n"
   ]
  },
  {
   "cell_type": "code",
   "execution_count": null,
   "metadata": {},
   "outputs": [
    {
     "data": {
      "text/plain": [
       "0.99994"
      ]
     },
     "execution_count": 6,
     "metadata": {},
     "output_type": "execute_result"
    }
   ],
   "source": [
    "N = 100000\n",
    "p = 2/5\n",
    "k= 75\n",
    "q= 100\n",
    "sum(burn_bag(p,k,q) for _ in range(N))/N\n",
    "# for _ in range(N):\n",
    "#     result = burn_bag(p, k, q)\n",
    "#     print(result)"
   ]
  },
  {
   "cell_type": "markdown",
   "metadata": {},
   "source": [
    "**c) $p = \\frac{2}{5}, k = 95, q = 100$**\n"
   ]
  },
  {
   "cell_type": "code",
   "execution_count": null,
   "metadata": {},
   "outputs": [
    {
     "data": {
      "text/plain": [
       "0.8713"
      ]
     },
     "execution_count": 8,
     "metadata": {},
     "output_type": "execute_result"
    }
   ],
   "source": [
    "N = 10000\n",
    "p = 2/5\n",
    "k= 95\n",
    "q= 100\n",
    "sum(burn_bag(p,k,q) for _ in range(N))/N"
   ]
  }
 ],
 "metadata": {
  "kernelspec": {
   "display_name": "base",
   "language": "python",
   "name": "python3"
  },
  "language_info": {
   "codemirror_mode": {
    "name": "ipython",
    "version": 3
   },
   "file_extension": ".py",
   "mimetype": "text/x-python",
   "name": "python",
   "nbconvert_exporter": "python",
   "pygments_lexer": "ipython3",
   "version": "3.11.7"
  }
 },
 "nbformat": 4,
 "nbformat_minor": 2
}
