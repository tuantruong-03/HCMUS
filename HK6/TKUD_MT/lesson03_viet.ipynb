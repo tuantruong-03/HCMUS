{
 "cells": [
  {
   "cell_type": "code",
   "execution_count": 1,
   "metadata": {},
   "outputs": [],
   "source": [
    "import random\n",
    "from collections import Counter\n",
    "import numpy as np\n",
    "import matplotlib.pyplot as plt\n",
    "import scipy.stats as stats\n",
    "import pandas as pd"
   ]
  },
  {
   "cell_type": "markdown",
   "metadata": {},
   "source": [
    "# Bài 3 - Sinh số ngẫu nhiên (Random number generation)\n",
    "\n",
    "**THỐNG KÊ MÁY TÍNH VÀ ỨNG DỤNG (Computational Statistics and Applications)**\n",
    "\n",
    "*(Vũ Quốc Hoàng, FIT - HCMUS, vqhoang@fit.hcmus.edu.vn)*"
   ]
  },
  {
   "cell_type": "markdown",
   "metadata": {},
   "source": [
    "## Chủ đề\n",
    "\n",
    "1. Các bộ sinh số giả ngẫu nhiên\n",
    "2. Các phân phối rời rạc\n",
    "3. Phương pháp biến đổi ngược\n",
    "4. Phương pháp lấy mẫu loại bỏ\n",
    "5. Biến đổi của các biến ngẫu nhiên\n",
    "6. Các phương pháp chuyên dụng"
   ]
  },
  {
   "cell_type": "markdown",
   "metadata": {},
   "source": [
    "## Minh họa mở đầu"
   ]
  },
  {
   "cell_type": "markdown",
   "metadata": {},
   "source": [
    "**Yêu cầu.** Từ một đồng xu có xác suất ra ngửa là $p$ $(0 < p < 1)$, ta không biết giá trị của $p$, tìm cách sinh một biến cố có xác suất là 50%."
   ]
  },
  {
   "cell_type": "code",
   "execution_count": 2,
   "metadata": {},
   "outputs": [
    {
     "data": {
      "text/plain": [
       "0.6939"
      ]
     },
     "execution_count": 2,
     "metadata": {},
     "output_type": "execute_result"
    }
   ],
   "source": [
    "def tung_dong_xu():\n",
    "    p = 0.7 # unknown\n",
    "    return random.choices([0, 1], [1 - p, p])[0]\n",
    "\n",
    "def tan_xuat(e, N): \n",
    "    return sum(e() for _ in range(N))/N\n",
    "\n",
    "tan_xuat(tung_dong_xu, 10000)"
   ]
  },
  {
   "cell_type": "markdown",
   "metadata": {},
   "source": [
    "**Trả lời.** Ta có thể sinh một biến cố có xác suất là 50% từ đồng xu bằng thủ tục sau\n",
    "\n",
    "> *Bước 1.* Tung đồng xu 2 lần, gọi $m_1, m_2$ lần lượt là mặt ra của đồng xu ở lần 1, lần 2.\n",
    ">\n",
    "> *Bước 2.* Lặp lại Bước 1 cho đến khi $m_1 \\neq m_2$.\n",
    ">\n",
    "> *Bước 3.* Trả về biến cố \"$m_1$ là ngửa\"."
   ]
  },
  {
   "cell_type": "code",
   "execution_count": 3,
   "metadata": {},
   "outputs": [
    {
     "data": {
      "text/plain": [
       "0.4994"
      ]
     },
     "execution_count": 3,
     "metadata": {},
     "output_type": "execute_result"
    }
   ],
   "source": [
    "def tung_dong_xu_can_bang():\n",
    "    while True:\n",
    "        m1 = tung_dong_xu()\n",
    "        m2 = tung_dong_xu()\n",
    "        if m1 != m2:\n",
    "            break\n",
    "    return m1\n",
    "\n",
    "tan_xuat(tung_dong_xu_can_bang, 10000)"
   ]
  },
  {
   "cell_type": "markdown",
   "metadata": {},
   "source": [
    "## Các bộ sinh số giả ngẫu nhiên"
   ]
  },
  {
   "cell_type": "markdown",
   "metadata": {},
   "source": [
    "### Thuật toán LCG"
   ]
  },
  {
   "cell_type": "code",
   "execution_count": 4,
   "metadata": {},
   "outputs": [],
   "source": [
    "# Algorithm LCG\n",
    "# Input:\n",
    "#   N (output sequence length)\n",
    "#   m > 1 (modulus)\n",
    "#   a ∈ {1, 2, . . . , m − 1} (multiplier)\n",
    "#   c ∈ {0, 1, . . . , m − 1} (increment)\n",
    "#   X0 ∈ {0, 1, . . . , m − 1} (seed)\n",
    "# Output: a sequence X1, X2, X3, . . . of pseudo random numbers\n",
    "def LCG(N, m, a, c, X0=0):\n",
    "    X = np.zeros((N,), dtype=\"int64\")\n",
    "    Xn = X0\n",
    "    for n in range(N):\n",
    "        Xn = (a*Xn + c) % m\n",
    "        X[n] = Xn\n",
    "    return X"
   ]
  },
  {
   "cell_type": "code",
   "execution_count": 5,
   "metadata": {},
   "outputs": [
    {
     "data": {
      "text/html": [
       "<div>\n",
       "<style scoped>\n",
       "    .dataframe tbody tr th:only-of-type {\n",
       "        vertical-align: middle;\n",
       "    }\n",
       "\n",
       "    .dataframe tbody tr th {\n",
       "        vertical-align: top;\n",
       "    }\n",
       "\n",
       "    .dataframe thead th {\n",
       "        text-align: right;\n",
       "    }\n",
       "</style>\n",
       "<table border=\"1\" class=\"dataframe\">\n",
       "  <thead>\n",
       "    <tr style=\"text-align: right;\">\n",
       "      <th></th>\n",
       "      <th>$n$</th>\n",
       "      <th>$X_n$</th>\n",
       "    </tr>\n",
       "  </thead>\n",
       "  <tbody>\n",
       "    <tr>\n",
       "      <th>0</th>\n",
       "      <td>1</td>\n",
       "      <td>1</td>\n",
       "    </tr>\n",
       "    <tr>\n",
       "      <th>1</th>\n",
       "      <td>2</td>\n",
       "      <td>6</td>\n",
       "    </tr>\n",
       "    <tr>\n",
       "      <th>2</th>\n",
       "      <td>3</td>\n",
       "      <td>7</td>\n",
       "    </tr>\n",
       "    <tr>\n",
       "      <th>3</th>\n",
       "      <td>4</td>\n",
       "      <td>4</td>\n",
       "    </tr>\n",
       "    <tr>\n",
       "      <th>4</th>\n",
       "      <td>5</td>\n",
       "      <td>5</td>\n",
       "    </tr>\n",
       "    <tr>\n",
       "      <th>5</th>\n",
       "      <td>6</td>\n",
       "      <td>2</td>\n",
       "    </tr>\n",
       "    <tr>\n",
       "      <th>6</th>\n",
       "      <td>7</td>\n",
       "      <td>3</td>\n",
       "    </tr>\n",
       "    <tr>\n",
       "      <th>7</th>\n",
       "      <td>8</td>\n",
       "      <td>0</td>\n",
       "    </tr>\n",
       "    <tr>\n",
       "      <th>8</th>\n",
       "      <td>9</td>\n",
       "      <td>1</td>\n",
       "    </tr>\n",
       "    <tr>\n",
       "      <th>9</th>\n",
       "      <td>10</td>\n",
       "      <td>6</td>\n",
       "    </tr>\n",
       "  </tbody>\n",
       "</table>\n",
       "</div>"
      ],
      "text/plain": [
       "   $n$  $X_n$\n",
       "0    1      1\n",
       "1    2      6\n",
       "2    3      7\n",
       "3    4      4\n",
       "4    5      5\n",
       "5    6      2\n",
       "6    7      3\n",
       "7    8      0\n",
       "8    9      1\n",
       "9   10      6"
      ]
     },
     "execution_count": 5,
     "metadata": {},
     "output_type": "execute_result"
    }
   ],
   "source": [
    "N = 10\n",
    "x = LCG(N, m=8, a=5, c=1, X0=0)\n",
    "pd.DataFrame({\"$n$\": range(1, N+1), \"$X_n$\": x})"
   ]
  },
  {
   "cell_type": "code",
   "execution_count": 6,
   "metadata": {},
   "outputs": [
    {
     "data": {
      "text/plain": [
       "array([     12345, 3554416254, 2802067423, 3596950572,  229283573,\n",
       "       3256818826, 1051550459, 3441282840, 2941955441,  551188310,\n",
       "       2951033815, 1772930244, 2518396845,  639546082, 1381971571,\n",
       "       1695770928, 2121308585, 3866696494, 3144468175, 1157490780,\n",
       "       3490719589, 2684337210, 1511588075, 1538207304, 2103497953,\n",
       "       2854052358, 3104096455, 3668764404, 1588911645, 2518522002,\n",
       "         33727075, 1680572000,   88489753, 3430460382,  527630783,\n",
       "       1194991756, 3253908437, 3001001962, 2539649755, 1387182456,\n",
       "       1538766929,  654858422, 4233718199, 3939628324, 2985199757,\n",
       "       3661187650, 2417027667, 3452649360, 1179132041, 3650472078,\n",
       "       1941297327, 2999764156, 1787378757, 1328144282, 2182172875,\n",
       "       2952753320, 2382780353, 1203133286, 2942447271,  321843028,\n",
       "       3873419005,  154978290, 2331577923,  422948032, 1929199097,\n",
       "       1179349310, 1049906079, 2955465964,  214614197,  973693770,\n",
       "        662438587,  809784280,  263435057, 2030201366, 3848146839,\n",
       "       3080115588, 3361689965,   45289890, 2062159411, 2490222064,\n",
       "       2896992105, 3755255278, 3693959823, 3934343452,  393101605,\n",
       "       1500066554,  112136363, 2128634632,   65456801, 2491909318,\n",
       "       2135690375, 1453107124,   84176861,  518465362, 3520260643,\n",
       "       2486602528, 1952263385, 3089917598, 1851786623, 3217635660],\n",
       "      dtype=int64)"
      ]
     },
     "execution_count": 6,
     "metadata": {},
     "output_type": "execute_result"
    }
   ],
   "source": [
    "LCG(N=100, m=2**32, a=1103515245, c=12345, X0=0)"
   ]
  },
  {
   "cell_type": "code",
   "execution_count": 7,
   "metadata": {},
   "outputs": [
    {
     "name": "stdout",
     "output_type": "stream",
     "text": [
      "1024\n",
      "[123 346 717 324 111 574 481 712 931 354]\n",
      "[123 346 717 324 111 574 481 712 931 354]\n"
     ]
    }
   ],
   "source": [
    "x = LCG(N=2000, m=1024, a=493, c=123, X0=0)\n",
    "print(len(np.unique(x)))\n",
    "print(x[:10])\n",
    "print(x[1024 : 1024 + 10])"
   ]
  },
  {
   "cell_type": "markdown",
   "metadata": {},
   "source": [
    "### Chất lượng của các bộ sinh số giả ngẫu nhiên"
   ]
  },
  {
   "cell_type": "code",
   "execution_count": 8,
   "metadata": {},
   "outputs": [
    {
     "name": "stdout",
     "output_type": "stream",
     "text": [
      "0.25603200000000004\n",
      "233.86780799999997\n",
      "0.0030399999999999997\n",
      "30.122304\n"
     ]
    },
    {
     "data": {
      "text/html": [
       "<div>\n",
       "<style scoped>\n",
       "    .dataframe tbody tr th:only-of-type {\n",
       "        vertical-align: middle;\n",
       "    }\n",
       "\n",
       "    .dataframe tbody tr th {\n",
       "        vertical-align: top;\n",
       "    }\n",
       "\n",
       "    .dataframe thead th {\n",
       "        text-align: right;\n",
       "    }\n",
       "</style>\n",
       "<table border=\"1\" class=\"dataframe\">\n",
       "  <thead>\n",
       "    <tr style=\"text-align: right;\">\n",
       "      <th></th>\n",
       "      <th>$q$</th>\n",
       "      <th>$P(Q \\le q)$</th>\n",
       "    </tr>\n",
       "  </thead>\n",
       "  <tbody>\n",
       "    <tr>\n",
       "      <th>0</th>\n",
       "      <td>0.025</td>\n",
       "      <td>6.262138</td>\n",
       "    </tr>\n",
       "    <tr>\n",
       "      <th>1</th>\n",
       "      <td>0.050</td>\n",
       "      <td>7.260944</td>\n",
       "    </tr>\n",
       "    <tr>\n",
       "      <th>2</th>\n",
       "      <td>0.950</td>\n",
       "      <td>24.995790</td>\n",
       "    </tr>\n",
       "    <tr>\n",
       "      <th>3</th>\n",
       "      <td>0.975</td>\n",
       "      <td>27.488393</td>\n",
       "    </tr>\n",
       "  </tbody>\n",
       "</table>\n",
       "</div>"
      ],
      "text/plain": [
       "     $q$  $P(Q \\le q)$\n",
       "0  0.025      6.262138\n",
       "1  0.050      7.260944\n",
       "2  0.950     24.995790\n",
       "3  0.975     27.488393"
      ]
     },
     "execution_count": 8,
     "metadata": {},
     "output_type": "execute_result"
    }
   ],
   "source": [
    "def chisqtestQ(x):\n",
    "    N = len(x)\n",
    "    E = np.zeros((16,))\n",
    "    O = np.zeros((16,))\n",
    "    for j in range(16):\n",
    "        O[j] = np.sum(np.logical_and(64*j <= x, x < 64*(j+1)))\n",
    "        E[j] = N/16\n",
    "    \n",
    "    return np.sum((O - E)**2/E)\n",
    "\n",
    "N = 10**6\n",
    "x = [None for _ in range(4)]\n",
    "\n",
    "x[0] = np.array([n % 1024 for n in range(1, N+1)])\n",
    "x[1] = np.array([n % 1020 for n in range(1, N+1)])\n",
    "x[2] = LCG(N, m=1024, a=493, c=123, X0=0)\n",
    "x[3] = np.random.randint(0, 1024, N)\n",
    "\n",
    "for xi in x:\n",
    "    print(chisqtestQ(xi))\n",
    "\n",
    "q = [0.025, 0.05, 0.95, 0.975]\n",
    "pd.DataFrame({\"$q$\": q, \"$P(Q \\le q)$\": stats.chi2.ppf(q, df=15)})"
   ]
  },
  {
   "cell_type": "code",
   "execution_count": 9,
   "metadata": {},
   "outputs": [],
   "source": [
    "N = 1000\n",
    "\n",
    "x = [None for _ in range(4)]\n",
    "x[0] = np.random.uniform(size=N)\n",
    "x[1] = LCG(N, m=81, a=1, c=8)/81\n",
    "x[2] = LCG(N, m=1024, a=401, c=101)/1024\n",
    "x[3] = LCG(N, m=2**32, a=1664525, c=1013904223)/2**32"
   ]
  },
  {
   "cell_type": "code",
   "execution_count": 10,
   "metadata": {},
   "outputs": [
    {
     "data": {
      "image/png": "[encoded data removed]",
      "text/plain": [
       "<Figure size 432x288 with 4 Axes>"
      ]
     },
     "metadata": {
      "needs_background": "light"
     },
     "output_type": "display_data"
    }
   ],
   "source": [
    "# histogram\n",
    "fig, _ = plt.subplots(2, 2)\n",
    "for xi, ax in zip(x, fig.get_axes()):\n",
    "    ax.hist(xi, density=True, edgecolor=\"black\", linewidth=0.5)\n",
    "\n",
    "#plt.savefig(\"PRNG_hist.pdf\", bbox_inches=\"tight\")\n",
    "plt.show()"
   ]
  },
  {
   "cell_type": "code",
   "execution_count": 11,
   "metadata": {},
   "outputs": [
    {
     "data": {
      "image/png": "[encoded data removed]",
      "text/plain": [
       "<Figure size 432x288 with 4 Axes>"
      ]
     },
     "metadata": {
      "needs_background": "light"
     },
     "output_type": "display_data"
    }
   ],
   "source": [
    "# correlation\n",
    "fig, _ = plt.subplots(2, 2)\n",
    "for xi, ax in zip(x, fig.get_axes()):\n",
    "    ax.scatter(xi[:N-1], xi[1:], marker=\".\", s=1)\n",
    "    ax.set_aspect('equal', 'box')\n",
    "\n",
    "#plt.savefig(\"PRNG_cor.pdf\", bbox_inches=\"tight\")\n",
    "plt.show()"
   ]
  },
  {
   "cell_type": "markdown",
   "metadata": {},
   "source": [
    "## Các phân phối rời rạc"
   ]
  },
  {
   "cell_type": "code",
   "execution_count": 12,
   "metadata": {},
   "outputs": [
    {
     "data": {
      "text/html": [
       "<div>\n",
       "<style scoped>\n",
       "    .dataframe tbody tr th:only-of-type {\n",
       "        vertical-align: middle;\n",
       "    }\n",
       "\n",
       "    .dataframe tbody tr th {\n",
       "        vertical-align: top;\n",
       "    }\n",
       "\n",
       "    .dataframe thead th {\n",
       "        text-align: right;\n",
       "    }\n",
       "</style>\n",
       "<table border=\"1\" class=\"dataframe\">\n",
       "  <thead>\n",
       "    <tr style=\"text-align: right;\">\n",
       "      <th></th>\n",
       "      <th>$i$</th>\n",
       "      <th>$P(X=i)$</th>\n",
       "      <th>Freq</th>\n",
       "    </tr>\n",
       "  </thead>\n",
       "  <tbody>\n",
       "    <tr>\n",
       "      <th>0</th>\n",
       "      <td>1</td>\n",
       "      <td>0.80000</td>\n",
       "      <td>0.79965</td>\n",
       "    </tr>\n",
       "    <tr>\n",
       "      <th>1</th>\n",
       "      <td>2</td>\n",
       "      <td>0.16000</td>\n",
       "      <td>0.16104</td>\n",
       "    </tr>\n",
       "    <tr>\n",
       "      <th>2</th>\n",
       "      <td>3</td>\n",
       "      <td>0.03200</td>\n",
       "      <td>0.03106</td>\n",
       "    </tr>\n",
       "    <tr>\n",
       "      <th>3</th>\n",
       "      <td>4</td>\n",
       "      <td>0.00640</td>\n",
       "      <td>0.00663</td>\n",
       "    </tr>\n",
       "    <tr>\n",
       "      <th>4</th>\n",
       "      <td>5</td>\n",
       "      <td>0.00128</td>\n",
       "      <td>0.00133</td>\n",
       "    </tr>\n",
       "    <tr>\n",
       "      <th>5</th>\n",
       "      <td>6</td>\n",
       "      <td>0.00026</td>\n",
       "      <td>0.00026</td>\n",
       "    </tr>\n",
       "    <tr>\n",
       "      <th>6</th>\n",
       "      <td>7</td>\n",
       "      <td>0.00005</td>\n",
       "      <td>0.00003</td>\n",
       "    </tr>\n",
       "  </tbody>\n",
       "</table>\n",
       "</div>"
      ],
      "text/plain": [
       "   $i$  $P(X=i)$     Freq\n",
       "0    1   0.80000  0.79965\n",
       "1    2   0.16000  0.16104\n",
       "2    3   0.03200  0.03106\n",
       "3    4   0.00640  0.00663\n",
       "4    5   0.00128  0.00133\n",
       "5    6   0.00026  0.00026\n",
       "6    7   0.00005  0.00003"
      ]
     },
     "execution_count": 12,
     "metadata": {},
     "output_type": "execute_result"
    }
   ],
   "source": [
    "p = 0.2\n",
    "N = 10**5\n",
    "\n",
    "x = np.ceil(np.log(1 - np.random.uniform(size=N))/np.log(p))\n",
    "i = np.arange(1, np.max(x) + 1)\n",
    "\n",
    "counter = Counter(x)\n",
    "m = int(max(counter.keys()))\n",
    "i_list = range(1, m + 1)\n",
    "pd.DataFrame({\n",
    "    \"$i$\": i_list,\n",
    "    \"$P(X=i)$\": [round(p**(i - 1)*(1 - p), 5) for i in i_list],\n",
    "    \"Freq\": [round(counter[i]/N, 5) for i in i_list]\n",
    "})"
   ]
  },
  {
   "cell_type": "markdown",
   "metadata": {},
   "source": [
    "## Phương pháp biến đổi ngược"
   ]
  },
  {
   "cell_type": "code",
   "execution_count": 13,
   "metadata": {},
   "outputs": [
    {
     "data": {
      "image/png": "[encoded data removed]",
      "text/plain": [
       "<Figure size 432x288 with 1 Axes>"
      ]
     },
     "metadata": {
      "needs_background": "light"
     },
     "output_type": "display_data"
    }
   ],
   "source": [
    "N = 10**5\n",
    "lamb = 0.1\n",
    "\n",
    "x = -np.log(1 - np.random.uniform(size=N))/lamb\n",
    "\n",
    "t = np.linspace(0, np.max(x), num=100)\n",
    "plt.hist(x, bins=100, density=True)\n",
    "plt.xlim(0, 50)\n",
    "plt.ylim(0, 0.1)\n",
    "plt.plot(t, lamb*np.exp(-lamb*t), \"red\")\n",
    "\n",
    "plt.show()"
   ]
  },
  {
   "cell_type": "code",
   "execution_count": 14,
   "metadata": {},
   "outputs": [
    {
     "data": {
      "image/png": "[encoded data removed]",
      "text/plain": [
       "<Figure size 432x288 with 1 Axes>"
      ]
     },
     "metadata": {
      "needs_background": "light"
     },
     "output_type": "display_data"
    }
   ],
   "source": [
    "N = 10**5\n",
    "sigma = 1\n",
    "\n",
    "x = np.sqrt(-2 * sigma**2 * np.log(1 - np.random.uniform(size=N)))\n",
    "t = np.linspace(0, np.max(x), num=100)\n",
    "\n",
    "plt.hist(x, bins=100, density=True)\n",
    "plt.plot(t, t/sigma**2 * np.exp(-t**2/(2*sigma**2)), \"red\")\n",
    "\n",
    "plt.show()"
   ]
  },
  {
   "cell_type": "code",
   "execution_count": 15,
   "metadata": {},
   "outputs": [
    {
     "data": {
      "image/png": "[encoded data removed]",
      "text/plain": [
       "<Figure size 432x288 with 1 Axes>"
      ]
     },
     "metadata": {
      "needs_background": "light"
     },
     "output_type": "display_data"
    }
   ],
   "source": [
    "N = 10**5\n",
    "sigma = 1\n",
    "\n",
    "x = np.random.uniform(size=N)**(1/3)\n",
    "t = np.linspace(0, np.max(x), num=100)\n",
    "\n",
    "plt.hist(x, bins=100, density=True)\n",
    "plt.plot(t, 3*t**2, \"red\")\n",
    "\n",
    "plt.show()"
   ]
  },
  {
   "cell_type": "markdown",
   "metadata": {},
   "source": [
    "## Phương pháp lấy mẫu loại bỏ"
   ]
  },
  {
   "cell_type": "markdown",
   "metadata": {},
   "source": [
    "### Lấy mẫu loại bỏ cơ bản"
   ]
  },
  {
   "cell_type": "code",
   "execution_count": 16,
   "metadata": {},
   "outputs": [],
   "source": [
    "# Algorithm BRS\n",
    "# Input:\n",
    "#   N: output sequence length\n",
    "#   g: sampler for the proposal density\n",
    "#   p: the acceptance probability\n",
    "# Output: a tuple (X, T)\n",
    "#   X: sequence X1, X2, X3, . . . iid with density f\n",
    "#   T: total number of proposals\n",
    "def BSR(N, g, p):\n",
    "    T = 0\n",
    "    X = []\n",
    "    i = 0\n",
    "    while i < N:\n",
    "        T = T + 1\n",
    "        Xn = g()\n",
    "        Un = np.random.uniform(size=1)\n",
    "        if Un <= p(Xn):\n",
    "            i = i + 1\n",
    "            X.append(Xn)\n",
    "\n",
    "    return (np.array(X), T)"
   ]
  },
  {
   "cell_type": "code",
   "execution_count": 17,
   "metadata": {},
   "outputs": [
    {
     "name": "stdout",
     "output_type": "stream",
     "text": [
      "Acceptance rate (Z): 0.786\n",
      "0.7853981633974483\n"
     ]
    },
    {
     "data": {
      "image/png": "[encoded data removed]",
      "text/plain": [
       "<Figure size 432x288 with 1 Axes>"
      ]
     },
     "metadata": {
      "needs_background": "light"
     },
     "output_type": "display_data"
    }
   ],
   "source": [
    "g = lambda: np.random.uniform(-1, 1, size=1)\n",
    "p = lambda x: np.sqrt(1 - x**2)\n",
    "\n",
    "N = 10**5\n",
    "\n",
    "x, T = BSR(N, g, p)\n",
    "print(\"Acceptance rate (Z):\", round(N/T, 4))\n",
    "print(np.pi/4)\n",
    "\n",
    "t = np.linspace(-1, 1, num=100)\n",
    "\n",
    "plt.hist(x, bins=100, density=True)\n",
    "plt.plot(t, 2/np.pi*np.sqrt(1 - t**2), \"red\")\n",
    "plt.gca().set_aspect('equal')\n",
    "\n",
    "plt.show()"
   ]
  },
  {
   "cell_type": "markdown",
   "metadata": {},
   "source": [
    "### Lấy mẫu loại bỏ theo khuôn"
   ]
  },
  {
   "cell_type": "code",
   "execution_count": 18,
   "metadata": {},
   "outputs": [],
   "source": [
    "# Algorithm ERS\n",
    "# Input:\n",
    "#   N: output sequence length\n",
    "#   f: the non-normalised target density\n",
    "#   gs: sampler for the proposal density\n",
    "#   g: the proposal density\n",
    "#   c > 0: such that f(x) <= c g(x) for all x\n",
    "# Output: a tuple (X, T)\n",
    "#   X: sequence X1, X2, X3, . . . iid with density f tiddle\n",
    "#   T: total number of proposals\n",
    "def ESR(N, f, gs, g, c):\n",
    "    T = 0\n",
    "    X = []\n",
    "    i = 0\n",
    "    while i < N:\n",
    "        T = T + 1\n",
    "        Xn = gs()\n",
    "        Un = np.random.uniform(size=1)\n",
    "        if c*g(Xn)*Un <= f(Xn):\n",
    "            i = i + 1\n",
    "            X.append(Xn)\n",
    "\n",
    "    return (np.array(X), T)"
   ]
  },
  {
   "cell_type": "code",
   "execution_count": 19,
   "metadata": {},
   "outputs": [
    {
     "name": "stdout",
     "output_type": "stream",
     "text": [
      "Acceptance rate (Z): 0.7599\n",
      "0.7601734505331403\n"
     ]
    },
    {
     "data": {
      "image/png": "[encoded data removed]",
      "text/plain": [
       "<Figure size 432x288 with 1 Axes>"
      ]
     },
     "metadata": {
      "needs_background": "light"
     },
     "output_type": "display_data"
    }
   ],
   "source": [
    "lamb = 1\n",
    "f = lambda x: 2/np.sqrt(2*np.pi)*np.exp(-x**2/2) if x >= 0 else 0\n",
    "gs = lambda: np.random.exponential(lamb, size=1)\n",
    "g = lambda x: lamb*np.exp(-lamb*x)\n",
    "c = np.sqrt(2/(np.pi*lamb**2))*np.exp(lamb**2/2)\n",
    "\n",
    "x, T = ESR(N, f, gs, g, c)\n",
    "print(\"Acceptance rate (Z):\", round(N/T, 4))\n",
    "print(1/c)\n",
    "\n",
    "t = np.linspace(0, np.max(x), num=100)\n",
    "\n",
    "plt.hist(x, bins=100, density=True)\n",
    "plt.plot(t, 2/np.sqrt(2*np.pi)*np.exp(-t**2/2), \"red\")\n",
    "\n",
    "plt.show()"
   ]
  },
  {
   "cell_type": "code",
   "execution_count": 20,
   "metadata": {},
   "outputs": [
    {
     "data": {
      "image/png": "[encoded data removed]",
      "text/plain": [
       "<Figure size 432x288 with 1 Axes>"
      ]
     },
     "metadata": {
      "needs_background": "light"
     },
     "output_type": "display_data"
    }
   ],
   "source": [
    "x = np.abs(np.random.normal(size=N))\n",
    "\n",
    "t = np.linspace(0, np.max(x), num=100)\n",
    "\n",
    "plt.hist(x, bins=100, density=True)\n",
    "plt.plot(t, 2/np.sqrt(2*np.pi)*np.exp(-t**2/2), \"red\")\n",
    "\n",
    "plt.show()"
   ]
  },
  {
   "cell_type": "code",
   "execution_count": 21,
   "metadata": {},
   "outputs": [
    {
     "name": "stdout",
     "output_type": "stream",
     "text": [
      "Acceptance rate (Z): 0.5021\n",
      "0.5020786054264655\n"
     ]
    },
    {
     "data": {
      "image/png": "[encoded data removed]",
      "text/plain": [
       "<Figure size 432x288 with 1 Axes>"
      ]
     },
     "metadata": {
      "needs_background": "light"
     },
     "output_type": "display_data"
    }
   ],
   "source": [
    "def half_normal(N):\n",
    "    T = 0\n",
    "    X = []\n",
    "    i = 0\n",
    "    while i < N:\n",
    "        Xn = np.random.normal(size=1)\n",
    "        T = T + 1\n",
    "        if Xn >= 0:\n",
    "            i = i + 1\n",
    "            X.append(Xn)\n",
    "    \n",
    "    return (np.array(X), T)\n",
    "\n",
    "x, T = half_normal(N)\n",
    "print(\"Acceptance rate (Z):\", round(N/T, 4))\n",
    "print(N/T)\n",
    "\n",
    "t = np.linspace(0, np.max(x), num=100)\n",
    "\n",
    "plt.hist(x, bins=100, density=True)\n",
    "plt.plot(t, 2/np.sqrt(2*np.pi)*np.exp(-t**2/2), \"red\")\n",
    "\n",
    "plt.show()"
   ]
  },
  {
   "cell_type": "markdown",
   "metadata": {},
   "source": [
    "### Lấy mẫu cho phân phối có điều kiện"
   ]
  },
  {
   "cell_type": "code",
   "execution_count": 22,
   "metadata": {},
   "outputs": [
    {
     "data": {
      "text/html": [
       "<div>\n",
       "<style scoped>\n",
       "    .dataframe tbody tr th:only-of-type {\n",
       "        vertical-align: middle;\n",
       "    }\n",
       "\n",
       "    .dataframe tbody tr th {\n",
       "        vertical-align: top;\n",
       "    }\n",
       "\n",
       "    .dataframe thead th {\n",
       "        text-align: right;\n",
       "    }\n",
       "</style>\n",
       "<table border=\"1\" class=\"dataframe\">\n",
       "  <thead>\n",
       "    <tr style=\"text-align: right;\">\n",
       "      <th></th>\n",
       "      <th>$a$</th>\n",
       "      <th>$E(N_a)$</th>\n",
       "    </tr>\n",
       "  </thead>\n",
       "  <tbody>\n",
       "    <tr>\n",
       "      <th>0</th>\n",
       "      <td>1</td>\n",
       "      <td>6</td>\n",
       "    </tr>\n",
       "    <tr>\n",
       "      <th>1</th>\n",
       "      <td>2</td>\n",
       "      <td>44</td>\n",
       "    </tr>\n",
       "    <tr>\n",
       "      <th>2</th>\n",
       "      <td>3</td>\n",
       "      <td>741</td>\n",
       "    </tr>\n",
       "    <tr>\n",
       "      <th>3</th>\n",
       "      <td>4</td>\n",
       "      <td>31574</td>\n",
       "    </tr>\n",
       "    <tr>\n",
       "      <th>4</th>\n",
       "      <td>5</td>\n",
       "      <td>3488556</td>\n",
       "    </tr>\n",
       "    <tr>\n",
       "      <th>5</th>\n",
       "      <td>6</td>\n",
       "      <td>1013594635</td>\n",
       "    </tr>\n",
       "  </tbody>\n",
       "</table>\n",
       "</div>"
      ],
      "text/plain": [
       "   $a$    $E(N_a)$\n",
       "0    1           6\n",
       "1    2          44\n",
       "2    3         741\n",
       "3    4       31574\n",
       "4    5     3488556\n",
       "5    6  1013594635"
      ]
     },
     "execution_count": 22,
     "metadata": {},
     "output_type": "execute_result"
    }
   ],
   "source": [
    "a = np.arange(1, 7)\n",
    "ENa = np.int_(np.round(1/(1 - stats.norm.cdf(a))))\n",
    "pd.DataFrame({\"$a$\": a, \"$E(N_a)$\": ENa})"
   ]
  },
  {
   "cell_type": "code",
   "execution_count": 23,
   "metadata": {},
   "outputs": [
    {
     "data": {
      "text/html": [
       "<div>\n",
       "<style scoped>\n",
       "    .dataframe tbody tr th:only-of-type {\n",
       "        vertical-align: middle;\n",
       "    }\n",
       "\n",
       "    .dataframe tbody tr th {\n",
       "        vertical-align: top;\n",
       "    }\n",
       "\n",
       "    .dataframe thead th {\n",
       "        text-align: right;\n",
       "    }\n",
       "</style>\n",
       "<table border=\"1\" class=\"dataframe\">\n",
       "  <thead>\n",
       "    <tr style=\"text-align: right;\">\n",
       "      <th></th>\n",
       "      <th>$a$</th>\n",
       "      <th>$E(N_a)$</th>\n",
       "      <th>Average</th>\n",
       "    </tr>\n",
       "  </thead>\n",
       "  <tbody>\n",
       "    <tr>\n",
       "      <th>0</th>\n",
       "      <td>1</td>\n",
       "      <td>1.5251</td>\n",
       "      <td>1.5411</td>\n",
       "    </tr>\n",
       "    <tr>\n",
       "      <th>1</th>\n",
       "      <td>2</td>\n",
       "      <td>1.1866</td>\n",
       "      <td>1.1920</td>\n",
       "    </tr>\n",
       "    <tr>\n",
       "      <th>2</th>\n",
       "      <td>3</td>\n",
       "      <td>1.0944</td>\n",
       "      <td>1.0972</td>\n",
       "    </tr>\n",
       "    <tr>\n",
       "      <th>3</th>\n",
       "      <td>4</td>\n",
       "      <td>1.0564</td>\n",
       "      <td>1.0556</td>\n",
       "    </tr>\n",
       "    <tr>\n",
       "      <th>4</th>\n",
       "      <td>5</td>\n",
       "      <td>1.0373</td>\n",
       "      <td>1.0354</td>\n",
       "    </tr>\n",
       "    <tr>\n",
       "      <th>5</th>\n",
       "      <td>6</td>\n",
       "      <td>1.0264</td>\n",
       "      <td>1.0254</td>\n",
       "    </tr>\n",
       "  </tbody>\n",
       "</table>\n",
       "</div>"
      ],
      "text/plain": [
       "   $a$  $E(N_a)$  Average\n",
       "0    1    1.5251   1.5411\n",
       "1    2    1.1866   1.1920\n",
       "2    3    1.0944   1.0972\n",
       "3    4    1.0564   1.0556\n",
       "4    5    1.0373   1.0354\n",
       "5    6    1.0264   1.0254"
      ]
     },
     "execution_count": 23,
     "metadata": {},
     "output_type": "execute_result"
    }
   ],
   "source": [
    "a = np.arange(1, 7)\n",
    "ENa = np.round(np.exp(-a**2/2)/(a*np.sqrt(2*np.pi)*(1 - stats.norm.cdf(a))), 4)\n",
    "ENa_e = []\n",
    "for ai in a:\n",
    "    f = lambda x: np.exp(-x**2/2) * (1 if x >= ai else 0)\n",
    "    gs = lambda: np.random.exponential(1/ai, size=1) + ai\n",
    "    g = lambda x: ai*np.exp(-ai*(x - ai)) * (1 if x >= ai else 0)\n",
    "    c = np.exp(-ai**2/2)/ai\n",
    "    N = 10**4\n",
    "\n",
    "    _, T = ESR(N, f, gs, g, c)\n",
    "    ENa_e.append(round(T/N, 4))\n",
    "\n",
    "pd.DataFrame({\"$a$\": a, \"$E(N_a)$\": ENa, \"Average\": ENa_e})"
   ]
  },
  {
   "cell_type": "markdown",
   "metadata": {},
   "source": [
    "### Diễn giải hình học"
   ]
  },
  {
   "cell_type": "code",
   "execution_count": 24,
   "metadata": {},
   "outputs": [
    {
     "name": "stdout",
     "output_type": "stream",
     "text": [
      "Acceptance rate: 0.7854 0.793\n"
     ]
    },
    {
     "data": {
      "image/png": "[encoded data removed]",
      "text/plain": [
       "<Figure size 432x288 with 1 Axes>"
      ]
     },
     "metadata": {
      "needs_background": "light"
     },
     "output_type": "display_data"
    }
   ],
   "source": [
    "def runif_circle(N):\n",
    "    xy = []\n",
    "    T = 0\n",
    "    i = 0\n",
    "    while i < N:\n",
    "        T = T + 1\n",
    "        Xn, Yn = np.random.uniform(-1, 1, size=2)\n",
    "        if Xn**2 + Yn**2 <= 1:\n",
    "            i = i + 1\n",
    "            xy.append((Xn, Yn))\n",
    "            \n",
    "    return (np.array(xy), T)\n",
    "\n",
    "N = 10**3\n",
    "xy, T = runif_circle(N)\n",
    "\n",
    "print(\"Acceptance rate:\", round(np.pi/4, 4), round(N/T, 4))\n",
    "\n",
    "plt.plot(xy[:, 0], xy[:, 1], \".\")\n",
    "plt.gca().set_aspect('equal')\n",
    "plt.show()"
   ]
  },
  {
   "cell_type": "markdown",
   "metadata": {},
   "source": [
    "## Biến đổi của các biến ngẫu nhiên"
   ]
  },
  {
   "cell_type": "code",
   "execution_count": 25,
   "metadata": {},
   "outputs": [
    {
     "data": {
      "image/png": "[encoded data removed]",
      "text/plain": [
       "<Figure size 432x288 with 1 Axes>"
      ]
     },
     "metadata": {
      "needs_background": "light"
     },
     "output_type": "display_data"
    },
    {
     "data": {
      "image/png": "[encoded data removed]",
      "text/plain": [
       "<Figure size 432x288 with 1 Axes>"
      ]
     },
     "metadata": {
      "needs_background": "light"
     },
     "output_type": "display_data"
    }
   ],
   "source": [
    "def BoxMuller(N):\n",
    "    theta = np.random.uniform(0, 2*np.pi, size=N)\n",
    "    u = np.random.uniform(size=N)\n",
    "    r = np.sqrt(-2*np.log(u))\n",
    "    return (r*np.cos(theta), r*np.sin(theta))\n",
    "\n",
    "N = 10**5\n",
    "\n",
    "x, y = BoxMuller(N)\n",
    "t = np.linspace(-4, 4, num=100)\n",
    "\n",
    "plt.hist(x, bins=100, density=True)\n",
    "plt.plot(t, stats.norm.pdf(t), \"red\")\n",
    "plt.show()\n",
    "\n",
    "plt.hist(y, bins=100, density=True)\n",
    "plt.plot(t, stats.norm.pdf(t), \"red\")\n",
    "plt.show()"
   ]
  },
  {
   "cell_type": "markdown",
   "metadata": {},
   "source": [
    "### Phương pháp tỉ số đều"
   ]
  },
  {
   "cell_type": "code",
   "execution_count": 26,
   "metadata": {},
   "outputs": [
    {
     "data": {
      "image/png": "[encoded data removed]",
      "text/plain": [
       "<Figure size 432x288 with 2 Axes>"
      ]
     },
     "metadata": {
      "needs_background": "light"
     },
     "output_type": "display_data"
    }
   ],
   "source": [
    "def Cauchy(x):\n",
    "    return 1/(np.pi*(1 + x**2))\n",
    "\n",
    "def Cauchy_inv(y):\n",
    "    return np.sqrt(1/(np.pi*y) - 1)\n",
    "\n",
    "def phi_inv(y0, y1):\n",
    "    x0 = np.sqrt(2*y0)\n",
    "    x1 = x0*y1\n",
    "    return (x1, x0)\n",
    "\n",
    "def plot_phi_transform(y1_min, y1_max, N_hor, N_vert, N_p=100):\n",
    "    fig, (ax1, ax2) = plt.subplots(2)\n",
    "    fig.subplots_adjust(hspace=0.5)\n",
    "    \n",
    "    y1 = np.linspace(y1_min, y1_max, num=N_p)\n",
    "    y0 = Cauchy(y1)\n",
    "    ax1.plot(y1, y0, \"black\", linewidth=2)\n",
    "    \n",
    "    y1s = np.linspace(y1_min, y1_max, num=N_vert)\n",
    "    for y1i in y1s:\n",
    "        y1 = np.repeat(y1i, N_p)\n",
    "        y0 = np.linspace(0, Cauchy(y1i), num=N_p)\n",
    "        ax1.plot(y1, y0, \"blue\", linewidth=1)\n",
    "        \n",
    "    y0_min = 0.02\n",
    "    y0_max = 1/np.pi - 0.02\n",
    "    y0s = np.linspace(y0_min, y0_max, num=N_hor)\n",
    "    for y0i in y0s:\n",
    "        y0 = np.repeat(y0i, N_p)\n",
    "        y1 = np.linspace(-Cauchy_inv(y0i), Cauchy_inv(y0i), num=N_p)\n",
    "        ax1.plot(y1, y0, \"green\", linewidth=1)\n",
    "        \n",
    "    ax1.set_xlabel(\"$y_1$\")\n",
    "    ax1.set_ylabel(\"$y_0$\")\n",
    "    \n",
    "    y1 = np.linspace(y1_min, y1_max, num=N_p)\n",
    "    y0 = Cauchy(y1)\n",
    "    ax2.plot(*phi_inv(y0, y1), \"black\", linewidth=2)\n",
    "    \n",
    "    y1s = np.linspace(y1_min, y1_max, num=N_vert)\n",
    "    for y1i in y1s:\n",
    "        y1 = np.repeat(y1i, N_p)\n",
    "        y0 = np.linspace(0, Cauchy(y1i), num=N_p)\n",
    "        ax2.plot(*phi_inv(y0, y1), \"blue\", linewidth=1)  \n",
    "\n",
    "    y0_min = 0.02\n",
    "    y0_max = 1/np.pi - 0.02\n",
    "    y0s = np.linspace(y0_min, y0_max, num=N_hor)\n",
    "    for y0i in y0s:\n",
    "        y0 = np.repeat(y0i, N_p)\n",
    "        y1 = np.linspace(-Cauchy_inv(y0i), Cauchy_inv(y0i), num=N_p)\n",
    "        ax2.plot(*phi_inv(y0, y1), \"green\", linewidth=1)\n",
    "        \n",
    "    ax2.set_xlabel(\"$x_1$\")\n",
    "    ax2.set_ylabel(\"$x_0$\")\n",
    "    \n",
    "    #plt.savefig(\"RUM.pdf\", bbox_inches=\"tight\")\n",
    "    plt.show()\n",
    "    \n",
    "plot_phi_transform(-4, 4, 10, 21)"
   ]
  },
  {
   "cell_type": "code",
   "execution_count": 27,
   "metadata": {},
   "outputs": [
    {
     "data": {
      "image/png": "[encoded data removed]",
      "text/plain": [
       "<Figure size 432x288 with 1 Axes>"
      ]
     },
     "metadata": {
      "needs_background": "light"
     },
     "output_type": "display_data"
    }
   ],
   "source": [
    "def r_Cauchy(N):\n",
    "    R = np.sqrt(2/np.pi)\n",
    "    x = []\n",
    "    i = 0\n",
    "    while i < N:\n",
    "        X0 = np.random.uniform(1e-3, R, size=1)\n",
    "        X1 = np.random.uniform(-R, R, size=1)\n",
    "        if X0**2 + X1**2 <= R**2:\n",
    "            i = i + 1\n",
    "            x.append(X1/X0)\n",
    "            \n",
    "    return np.array(x)\n",
    "\n",
    "N = 10**4\n",
    "\n",
    "x_min = -10\n",
    "x_max = -x_min\n",
    "x = r_Cauchy(N)\n",
    "t = np.linspace(x_min, x_max, num=100)\n",
    "\n",
    "plt.hist(x, bins=list(t), density=True)\n",
    "plt.plot(t, 1/(np.pi*(1 + t**2)), \"r\")\n",
    "\n",
    "plt.show()"
   ]
  },
  {
   "cell_type": "markdown",
   "metadata": {},
   "source": [
    "## Tài liệu\n",
    "\n",
    "1. **Chapter 1.** Jochen Voss. *An Introduction to Statistical Computing - A Simulation-based Approach*. John Wiley \\& Sons, 2014.\n",
    "\n",
    "2. **Chapter 2-4.** J. S. Dagpunar. *Simulation and Monte Carlo - With applications in finance and MCMC*. John Wiley \\& Sons, 2007."
   ]
  }
 ],
 "metadata": {
  "kernelspec": {
   "display_name": "Python 3.7.6 64-bit ('base': conda)",
   "language": "python",
   "name": "python37664bitbaseconda0b8c7c8e841a463980d22293ed402c2a"
  },
  "language_info": {
   "codemirror_mode": {
    "name": "ipython",
    "version": 3
   },
   "file_extension": ".py",
   "mimetype": "text/x-python",
   "name": "python",
   "nbconvert_exporter": "python",
   "pygments_lexer": "ipython3",
   "version": "3.7.11"
  }
 },
 "nbformat": 4,
 "nbformat_minor": 4
}
